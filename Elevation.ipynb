{
  "nbformat": 4,
  "nbformat_minor": 0,
  "metadata": {
    "colab": {
      "provenance": [],
      "include_colab_link": true
    },
    "kernelspec": {
      "name": "python3",
      "display_name": "Python 3"
    },
    "language_info": {
      "name": "python"
    }
  },
  "cells": [
    {
      "cell_type": "markdown",
      "metadata": {
        "id": "view-in-github",
        "colab_type": "text"
      },
      "source": [
        "<a href=\"https://colab.research.google.com/github/melkatewabe10/Machine-learning_LST-Estimation-/blob/main/Elevation.ipynb\" target=\"_parent\"><img src=\"https://colab.research.google.com/assets/colab-badge.svg\" alt=\"Open In Colab\"/></a>"
      ]
    },
    {
      "cell_type": "markdown",
      "source": [
        "# **Author**: **Tewabe** **Melkamu**\n",
        "\n",
        "Date: 3/10/2025\n",
        "\n",
        "Elevation_and reference Data Collection\n"
      ],
      "metadata": {
        "id": "loI9VmsGKzYX"
      }
    },
    {
      "cell_type": "code",
      "execution_count": 1,
      "metadata": {
        "id": "I8PTqE6qAeE4"
      },
      "outputs": [],
      "source": [
        "import ee\n",
        "import folium\n",
        "import matplotlib.pyplot as plt\n",
        "import geemap\n",
        "import math\n",
        "# Authenticate to Earth Engine. This will open a browser window.\n",
        "ee.Authenticate()\n",
        "\n",
        "# Initialize the Earth Engine API.\n",
        "ee.Initialize(project='ee-mftewabe')"
      ]
    },
    {
      "cell_type": "code",
      "source": [
        "from google.colab import drive\n",
        "drive.mount('/content/drive')"
      ],
      "metadata": {
        "id": "c6FDX6M2Asl9",
        "outputId": "4047c886-b74a-4524-962f-fe6a6d1dce7e",
        "colab": {
          "base_uri": "https://localhost:8080/",
          "height": 34
        }
      },
      "execution_count": 3,
      "outputs": [
        {
          "output_type": "display_data",
          "data": {
            "text/plain": [
              "<IPython.core.display.HTML object>"
            ],
            "text/html": [
              "\n",
              "            <style>\n",
              "                .geemap-dark {\n",
              "                    --jp-widgets-color: white;\n",
              "                    --jp-widgets-label-color: white;\n",
              "                    --jp-ui-font-color1: white;\n",
              "                    --jp-layout-color2: #454545;\n",
              "                    background-color: #383838;\n",
              "                }\n",
              "\n",
              "                .geemap-dark .jupyter-button {\n",
              "                    --jp-layout-color3: #383838;\n",
              "                }\n",
              "\n",
              "                .geemap-colab {\n",
              "                    background-color: var(--colab-primary-surface-color, white);\n",
              "                }\n",
              "\n",
              "                .geemap-colab .jupyter-button {\n",
              "                    --jp-layout-color3: var(--colab-primary-surface-color, white);\n",
              "                }\n",
              "            </style>\n",
              "            "
            ]
          },
          "metadata": {}
        },
        {
          "output_type": "stream",
          "name": "stdout",
          "text": [
            "Mounted at /content/drive\n"
          ]
        }
      ]
    },
    {
      "cell_type": "markdown",
      "source": [
        "**Data** **spacification** **and** **visualization**  "
      ],
      "metadata": {
        "id": "uZkaZ4IJMC98"
      }
    },
    {
      "cell_type": "code",
      "source": [
        "# 1. Define the study region (Ethiopia)\n",
        "# -------------------------------------------------------------------\n",
        "gaul = ee.FeatureCollection(\"FAO/GAUL/2015/level0\")\n",
        "taiwan = gaul.filter(ee.Filter.eq('ADM0_NAME', 'Taiwan'))\n",
        "\n",
        "# -------------------------------------------------------------------\n",
        "# 2. Load and clip the SRTM DEM\n",
        "# -------------------------------------------------------------------\n",
        "srtm = ee.Image(\"CGIAR/SRTM90_V4\").clip(taiwan)\n",
        "\n",
        "# -------------------------------------------------------------------\n",
        "# 3. Create a mask for water bodies\n",
        "# -------------------------------------------------------------------\n",
        "# Load ESA WorldCover and clip to Ethiopia.\n",
        "#worldcover = ee.ImageCollection(\"ESA/WorldCover/v200\").first().clip(taiwan)\n",
        "\n",
        "# Class definitions from ESA WorldCover:\n",
        "# 50 = Built-up\n",
        "# 80 = Permanent water bodies\n",
        "# We keep only pixels that are NOT 80.\n",
        "#ask = worldcover.neq(50).And(worldcover.neq(80))\n",
        "\n",
        "# Apply this mask to the SRTM DEM\n",
        "#dem_masked = srtm.updateMask(mask)\n",
        "\n",
        "# -------------------------------------------------------------------\n",
        "# 5. Visualize the data interactively\n",
        "# -------------------------------------------------------------------\n",
        "Map = geemap.Map(center=[23.5, 121], zoom=7)\n",
        "\n",
        "# Original SRTM\n",
        "Map.addLayer(\n",
        "    srtm,\n",
        "    {\"min\": 0, \"max\": 3000, \"palette\": ['white', 'blue', 'green', 'yellow', 'orange', 'red']},\n",
        "    \"Original SRTM DEM\"\n",
        ")\n",
        "\n",
        "# WorldCover (for reference)\n",
        "#Map.addLayer(\n",
        "   # worldcover,\n",
        "   # {},\n",
        "   # \"WorldCover (original)\"\n",
        "#)\n",
        "\n",
        "# Masked DEM (no upscaling)\n",
        "Map.addLayer(\n",
        "    srtm,\n",
        "    {\"min\": 0, \"max\": 3000, \"palette\": ['white', 'blue', 'green', 'yellow', 'orange', 'red']},\n",
        "    \"Masked SRTM DEM (Built-up & Water)\"\n",
        ")\n",
        "\n",
        "# Ethiopia boundary\n",
        "Map.addLayer(taiwan, {}, \"Taiwan Boundary\")\n",
        "Map.addLayerControl()\n",
        "#Map\n",
        "# -------------------------------------------------------------------\n",
        "# 5. Export the masked dem image to Google Drive\n",
        "# -------------------------------------------------------------------\n",
        "task = ee.batch.Export.image.toDrive(\n",
        "    image=srtm,\n",
        "    description='DEM',\n",
        "    folder='DEM',  # Update this to your desired Drive folder.\n",
        "    fileNamePrefix='DEM',\n",
        "    region=taiwan.geometry().bounds().getInfo()['coordinates'],\n",
        "    scale=1000,  # MODIS resolution is ~1km.\n",
        "    crs='EPSG:32651',\n",
        "    maxPixels=1e13\n",
        ")\n",
        "task.start()\n",
        "\n",
        "print(\"Export task started.\")"
      ],
      "metadata": {
        "id": "Hoga1jIoBWVc",
        "colab": {
          "base_uri": "https://localhost:8080/",
          "height": 34
        },
        "outputId": "df34d339-1563-4d95-be1e-004563dd0097"
      },
      "execution_count": null,
      "outputs": [
        {
          "output_type": "display_data",
          "data": {
            "text/plain": [
              "<IPython.core.display.HTML object>"
            ],
            "text/html": [
              "\n",
              "            <style>\n",
              "                .geemap-dark {\n",
              "                    --jp-widgets-color: white;\n",
              "                    --jp-widgets-label-color: white;\n",
              "                    --jp-ui-font-color1: white;\n",
              "                    --jp-layout-color2: #454545;\n",
              "                    background-color: #383838;\n",
              "                }\n",
              "\n",
              "                .geemap-dark .jupyter-button {\n",
              "                    --jp-layout-color3: #383838;\n",
              "                }\n",
              "\n",
              "                .geemap-colab {\n",
              "                    background-color: var(--colab-primary-surface-color, white);\n",
              "                }\n",
              "\n",
              "                .geemap-colab .jupyter-button {\n",
              "                    --jp-layout-color3: var(--colab-primary-surface-color, white);\n",
              "                }\n",
              "            </style>\n",
              "            "
            ]
          },
          "metadata": {}
        },
        {
          "output_type": "stream",
          "name": "stdout",
          "text": [
            "Export task started.\n"
          ]
        }
      ]
    },
    {
      "cell_type": "markdown",
      "source": [
        "**Explor** **in** **Python**"
      ],
      "metadata": {
        "id": "tBf5BLxGL32s"
      }
    },
    {
      "cell_type": "code",
      "source": [
        "!pip install rasterio"
      ],
      "metadata": {
        "colab": {
          "base_uri": "https://localhost:8080/",
          "height": 193
        },
        "id": "zBgKm0crsL9f",
        "outputId": "1584ce5f-088f-418e-ea13-3239e73f01d9"
      },
      "execution_count": 7,
      "outputs": [
        {
          "output_type": "display_data",
          "data": {
            "text/plain": [
              "<IPython.core.display.HTML object>"
            ],
            "text/html": [
              "\n",
              "            <style>\n",
              "                .geemap-dark {\n",
              "                    --jp-widgets-color: white;\n",
              "                    --jp-widgets-label-color: white;\n",
              "                    --jp-ui-font-color1: white;\n",
              "                    --jp-layout-color2: #454545;\n",
              "                    background-color: #383838;\n",
              "                }\n",
              "\n",
              "                .geemap-dark .jupyter-button {\n",
              "                    --jp-layout-color3: #383838;\n",
              "                }\n",
              "\n",
              "                .geemap-colab {\n",
              "                    background-color: var(--colab-primary-surface-color, white);\n",
              "                }\n",
              "\n",
              "                .geemap-colab .jupyter-button {\n",
              "                    --jp-layout-color3: var(--colab-primary-surface-color, white);\n",
              "                }\n",
              "            </style>\n",
              "            "
            ]
          },
          "metadata": {}
        },
        {
          "output_type": "stream",
          "name": "stdout",
          "text": [
            "Requirement already satisfied: rasterio in /usr/local/lib/python3.11/dist-packages (1.4.3)\n",
            "Requirement already satisfied: affine in /usr/local/lib/python3.11/dist-packages (from rasterio) (2.4.0)\n",
            "Requirement already satisfied: attrs in /usr/local/lib/python3.11/dist-packages (from rasterio) (25.3.0)\n",
            "Requirement already satisfied: certifi in /usr/local/lib/python3.11/dist-packages (from rasterio) (2025.1.31)\n",
            "Requirement already satisfied: click>=4.0 in /usr/local/lib/python3.11/dist-packages (from rasterio) (8.1.8)\n",
            "Requirement already satisfied: cligj>=0.5 in /usr/local/lib/python3.11/dist-packages (from rasterio) (0.7.2)\n",
            "Requirement already satisfied: numpy>=1.24 in /usr/local/lib/python3.11/dist-packages (from rasterio) (2.0.2)\n",
            "Requirement already satisfied: click-plugins in /usr/local/lib/python3.11/dist-packages (from rasterio) (1.1.1)\n",
            "Requirement already satisfied: pyparsing in /usr/local/lib/python3.11/dist-packages (from rasterio) (3.2.3)\n"
          ]
        }
      ]
    },
    {
      "cell_type": "markdown",
      "source": [
        "# Non_zero dem"
      ],
      "metadata": {
        "id": "ttdY_PUlGzYp"
      }
    },
    {
      "cell_type": "code",
      "source": [
        "# Import necessary libraries\n",
        "import rasterio\n",
        "import matplotlib.pyplot as plt\n",
        "import numpy as np # Import numpy\n",
        "\n",
        "# Define the file path to your DEM file on Google Drive\n",
        "# Update this path to match where your DEM is stored\n",
        "dem_path = \"/content/drive/MyDrive/DEM/ELVref2.tif\"\n",
        "\n",
        "# prompt: remove 0 elevation and  save the dem-\n",
        "\n",
        "# Read the DEM data using rasterio and keep the dataset open\n",
        "with rasterio.open(dem_path) as src:\n",
        "    dem_data = src.read(1)  # Read the first band as a NumPy array\n",
        "    # Get the profile while the dataset is still open\n",
        "    profile = src.profile\n",
        "\n",
        "# Assuming 'dem_data' is your NumPy array from the previous code\n",
        "dem_data_no_zero = np.where(dem_data == 0, np.nan, dem_data)\n",
        "\n",
        "# Update metadata for the output raster\n",
        "profile.update(dtype=rasterio.float32, nodata=np.nan) # Update dtype and nodata\n",
        "\n",
        "# Define the output path for the new DEM file\n",
        "output_path = \"/content/drive/MyDrive/DEM/ELVref23.tif\"\n",
        "\n",
        "# Write the modified DEM to a new GeoTIFF file\n",
        "with rasterio.open(output_path, \"w\", **profile) as dst:\n",
        "    dst.write(dem_data_no_zero.astype(rasterio.float32), 1)\n",
        "\n",
        "print(f\"DEM with zeros removed saved to: {output_path}\")\n",
        "\n",
        "# Optional: Display the modified DEM\n",
        "plt.figure(figsize=(10, 8))\n",
        "plt.imshow(dem_data_no_zero, cmap=\"terrain\")\n",
        "plt.title(\"DEM from Google Drive (Zeros Removed)\")\n",
        "plt.xlabel(\"Column\")\n",
        "plt.ylabel(\"Row\")\n",
        "plt.colorbar(label=\"Elevation\")\n",
        "plt.show()"
      ],
      "metadata": {
        "id": "OMngENwjoz1d"
      },
      "execution_count": null,
      "outputs": []
    },
    {
      "cell_type": "code",
      "source": [
        "!pip install rasterio numpy\n"
      ],
      "metadata": {
        "id": "IAi2JNM-43Yp"
      },
      "execution_count": null,
      "outputs": []
    },
    {
      "cell_type": "markdown",
      "source": [
        "# mean ELV"
      ],
      "metadata": {
        "id": "vBqqIxOoFL0T"
      }
    },
    {
      "cell_type": "code",
      "source": [
        "import rasterio\n",
        "import numpy as np\n",
        "\n",
        "def save_mean_image(input_path, output_path,\n",
        "                    background_value=None,\n",
        "                    valid_min=None,\n",
        "                    valid_max=None):\n",
        "    \"\"\"\n",
        "    Reads a single-band GeoTIFF, replaces nodata and/or background values\n",
        "    with NaN, computes the overall mean of valid pixels, and saves a new\n",
        "    GeoTIFF where valid pixels are set to that mean and invalid (background/nodata)\n",
        "    remain NaN.\n",
        "\n",
        "    Parameters:\n",
        "    -----------\n",
        "    input_path : str\n",
        "        Path to the input GeoTIFF file.\n",
        "    output_path : str\n",
        "        Path to the output GeoTIFF file.\n",
        "    background_value : float or int, optional\n",
        "        A known pixel value used as background that should be treated as invalid.\n",
        "    valid_min : float, optional\n",
        "        Minimum valid pixel value (everything below is set to NaN).\n",
        "    valid_max : float, optional\n",
        "        Maximum valid pixel value (everything above is set to NaN).\n",
        "    \"\"\"\n",
        "    with rasterio.open(input_path) as src:\n",
        "        # Read the first band\n",
        "        data = src.read(1).astype(np.float32)\n",
        "\n",
        "        # If the GeoTIFF has a nodata value, convert those pixels to NaN\n",
        "        if src.nodata is not None:\n",
        "            data = np.where(data == src.nodata, np.nan, data)\n",
        "\n",
        "        # If there's a known background value, treat it as invalid\n",
        "        if background_value is not None:\n",
        "            data = np.where(data == background_value, np.nan, data)\n",
        "\n",
        "        # If you have a known valid data range, remove values outside it\n",
        "        if valid_min is not None:\n",
        "            data = np.where(data < valid_min, np.nan, data)\n",
        "        if valid_max is not None:\n",
        "            data = np.where(data > valid_max, np.nan, data)\n",
        "\n",
        "        # Compute the mean of valid (non-NaN) pixels\n",
        "        mean_val = np.nanmean(data)\n",
        "        print(f\"Computed mean value of valid pixels: {mean_val}\")\n",
        "\n",
        "        # Create an output array: fill all with NaN initially\n",
        "        mean_image = np.full(data.shape, np.nan, dtype=np.float32)\n",
        "\n",
        "        # Where the data is valid, set the pixel to the mean\n",
        "        valid_mask = ~np.isnan(data)\n",
        "        mean_image[valid_mask] = mean_val\n",
        "\n",
        "        # Copy the original profile and update it for the output\n",
        "        profile = src.profile.copy()\n",
        "        # Use float32 and set a nodata value if you want to preserve the invalid region\n",
        "        profile.update(dtype=rasterio.float32, count=1, nodata=np.nan)\n",
        "\n",
        "        # Write the new image to disk\n",
        "        with rasterio.open(output_path, 'w', **profile) as dst:\n",
        "            dst.write(mean_image, 1)\n",
        "\n",
        "if __name__ == \"__main__\":\n",
        "    # Replace these file paths with your actual input and desired output paths.\n",
        "    input_geotiff = \"/content/drive/MyDrive/Seasonal/DEM/DEM_nz.tif\"\n",
        "    output_geotiff = \"/content/drive/MyDrive/MONTHLY/ELVref.tif\"\n",
        "\n",
        "    save_mean_image(input_geotiff, output_geotiff)"
      ],
      "metadata": {
        "id": "e-1UR5YnFABq",
        "outputId": "d19a62c5-6911-4ca2-d9ae-b00b083a97a2",
        "colab": {
          "base_uri": "https://localhost:8080/",
          "height": 34
        }
      },
      "execution_count": 8,
      "outputs": [
        {
          "output_type": "display_data",
          "data": {
            "text/plain": [
              "<IPython.core.display.HTML object>"
            ],
            "text/html": [
              "\n",
              "            <style>\n",
              "                .geemap-dark {\n",
              "                    --jp-widgets-color: white;\n",
              "                    --jp-widgets-label-color: white;\n",
              "                    --jp-ui-font-color1: white;\n",
              "                    --jp-layout-color2: #454545;\n",
              "                    background-color: #383838;\n",
              "                }\n",
              "\n",
              "                .geemap-dark .jupyter-button {\n",
              "                    --jp-layout-color3: #383838;\n",
              "                }\n",
              "\n",
              "                .geemap-colab {\n",
              "                    background-color: var(--colab-primary-surface-color, white);\n",
              "                }\n",
              "\n",
              "                .geemap-colab .jupyter-button {\n",
              "                    --jp-layout-color3: var(--colab-primary-surface-color, white);\n",
              "                }\n",
              "            </style>\n",
              "            "
            ]
          },
          "metadata": {}
        },
        {
          "output_type": "stream",
          "name": "stdout",
          "text": [
            "Computed mean value of valid pixels: 770.4797973632812\n"
          ]
        }
      ]
    },
    {
      "cell_type": "markdown",
      "source": [
        "Mean DSR"
      ],
      "metadata": {
        "id": "f1wPJg1gJuQC"
      }
    },
    {
      "cell_type": "code",
      "source": [
        "import os\n",
        "import numpy as np\n",
        "import rasterio\n",
        "\n",
        "# -------------------------------------------------------------------\n",
        "# Define input directory\n",
        "# -------------------------------------------------------------------\n",
        "dsr_dir = \"/content/drive/MyDrive/DSR\"\n",
        "\n",
        "# -------------------------------------------------------------------\n",
        "# Define the seasons\n",
        "# -------------------------------------------------------------------\n",
        "seasons = {\n",
        "    \"Winter\": ('12-01', '02-28'),\n",
        "    \"Spring\": ('03-01', '05-31'),\n",
        "    \"Summer\": ('06-01', '08-31'),\n",
        "    \"Autumn\": ('09-01', '11-30')\n",
        "}\n",
        "\n",
        "def save_mean_image(input_path, output_path,\n",
        "                    background_value=None,\n",
        "                    valid_min=None,\n",
        "                    valid_max=None):\n",
        "    \"\"\"\n",
        "    Replace invalid values with NaN, compute mean of valid pixels,\n",
        "    and save a new GeoTIFF with all valid pixels set to the mean.\n",
        "    \"\"\"\n",
        "    with rasterio.open(input_path) as src:\n",
        "        data = src.read(1).astype(np.float32)\n",
        "\n",
        "        # Handle nodata\n",
        "        if src.nodata is not None:\n",
        "            data = np.where(data == src.nodata, np.nan, data)\n",
        "\n",
        "        # Handle background\n",
        "        if background_value is not None:\n",
        "            data = np.where(data == background_value, np.nan, data)\n",
        "\n",
        "        # Apply valid value range filters\n",
        "        if valid_min is not None:\n",
        "            data = np.where(data < valid_min, np.nan, data)\n",
        "        if valid_max is not None:\n",
        "            data = np.where(data > valid_max, np.nan, data)\n",
        "\n",
        "        # Compute mean\n",
        "        mean_val = np.nanmean(data)\n",
        "        print(f\"    Mean value: {mean_val:.4f}\")\n",
        "\n",
        "        # Construct output image\n",
        "        mean_image = np.full(data.shape, np.nan, dtype=np.float32)\n",
        "        mean_image[~np.isnan(data)] = mean_val\n",
        "\n",
        "        # Update profile\n",
        "        profile = src.profile.copy()\n",
        "        profile.update(dtype=rasterio.float32, count=1, nodata=np.nan)\n",
        "\n",
        "        # Write the mean image\n",
        "        with rasterio.open(output_path, 'w', **profile) as dst:\n",
        "            dst.write(mean_image, 1)\n",
        "\n",
        "# -------------------------------------------------------------------\n",
        "# Loop through years and seasons\n",
        "# -------------------------------------------------------------------\n",
        "for year in range(2000, 2025):\n",
        "    print(f\"Processing year: {year}\")\n",
        "\n",
        "    for season in seasons:\n",
        "        print(f\"  Season: {season}\")\n",
        "\n",
        "        input_file = os.path.join(dsr_dir, f\"DSR_{year}_{season}.tif\")\n",
        "        output_file = os.path.join(dsr_dir, f\"DSR_{year}_{season}_ref.tif\")\n",
        "\n",
        "        if not os.path.exists(input_file):\n",
        "            print(f\"    File not found: {input_file}\")\n",
        "            continue\n",
        "\n",
        "        save_mean_image(input_file, output_file,\n",
        "                        background_value=None,  # You may set this if applicable\n",
        "                        valid_min=0,            # Optional: Example threshold\n",
        "                        valid_max=1000)         # Optional: Example threshold\n",
        "\n",
        "        print(f\"    Saved mean DSR image: {output_file}\")\n"
      ],
      "metadata": {
        "id": "sOzwSgYiJsAz"
      },
      "execution_count": null,
      "outputs": []
    },
    {
      "cell_type": "markdown",
      "source": [
        "# monthly"
      ],
      "metadata": {
        "id": "O8IpQ_nAdttX"
      }
    },
    {
      "cell_type": "code",
      "source": [
        "import os\n",
        "import numpy as np\n",
        "import rasterio\n",
        "\n",
        "# -------------------------------------------------------------------\n",
        "# Define input directory\n",
        "# -------------------------------------------------------------------\n",
        "dsr_dir = \"/content/drive/MyDrive/MONTHLY_FIVE\"\n",
        "\n",
        "# -------------------------------------------------------------------\n",
        "# Function to compute and save mean DSR image\n",
        "# -------------------------------------------------------------------\n",
        "def save_mean_image(input_path, output_path,\n",
        "                    background_value=None,\n",
        "                    valid_min=None,\n",
        "                    valid_max=None):\n",
        "    \"\"\"\n",
        "    Replace invalid values with NaN, compute mean of valid pixels,\n",
        "    and save a new GeoTIFF with all valid pixels set to the mean.\n",
        "    \"\"\"\n",
        "    with rasterio.open(input_path) as src:\n",
        "        data = src.read(1).astype(np.float32)\n",
        "\n",
        "        # Handle nodata\n",
        "        if src.nodata is not None:\n",
        "            data = np.where(data == src.nodata, np.nan, data)\n",
        "\n",
        "        # Handle background\n",
        "        if background_value is not None:\n",
        "            data = np.where(data == background_value, np.nan, data)\n",
        "\n",
        "        # Apply valid value filters\n",
        "        if valid_min is not None:\n",
        "            data = np.where(data < valid_min, np.nan, data)\n",
        "        if valid_max is not None:\n",
        "            data = np.where(data > valid_max, np.nan, data)\n",
        "\n",
        "        # Compute mean\n",
        "        mean_val = np.nanmean(data)\n",
        "        print(f\"    Mean value: {mean_val:.4f}\")\n",
        "\n",
        "        # Construct output image filled with mean\n",
        "        mean_image = np.full(data.shape, np.nan, dtype=np.float32)\n",
        "        mean_image[~np.isnan(data)] = mean_val\n",
        "\n",
        "        # Update profile\n",
        "        profile = src.profile.copy()\n",
        "        profile.update(dtype=rasterio.float32, count=1, nodata=np.nan)\n",
        "\n",
        "        # Write the mean image\n",
        "        with rasterio.open(output_path, 'w', **profile) as dst:\n",
        "            dst.write(mean_image, 1)\n",
        "\n",
        "# -------------------------------------------------------------------\n",
        "# Loop through years and months\n",
        "# -------------------------------------------------------------------\n",
        "for year in range(2021, 2025):\n",
        "    print(f\"Processing year: {year}\")\n",
        "\n",
        "    for month in range(1, 13):\n",
        "        month_str = str(month).zfill(2)\n",
        "        print(f\"  Month: {month_str}\")\n",
        "\n",
        "        input_file = os.path.join(dsr_dir, f\"DSR_{year}_{month_str}.tif\")\n",
        "        output_file = os.path.join(dsr_dir, f\"DSRref_{year}_{month_str}.tif\")\n",
        "\n",
        "        if not os.path.exists(input_file):\n",
        "            print(f\"    File not found: {input_file}\")\n",
        "            continue\n",
        "\n",
        "        save_mean_image(input_file, output_file,\n",
        "                        background_value=None,\n",
        "                        valid_min=0,\n",
        "                        valid_max=1000)\n",
        "\n",
        "        print(f\"    Saved mean DSR image: {output_file}\")\n"
      ],
      "metadata": {
        "id": "gTMVmzLDdsSk",
        "outputId": "6d068ed3-bfda-4a9b-cfbc-2e18e2718b39",
        "colab": {
          "base_uri": "https://localhost:8080/",
          "height": 1000
        }
      },
      "execution_count": 32,
      "outputs": [
        {
          "output_type": "display_data",
          "data": {
            "text/plain": [
              "<IPython.core.display.HTML object>"
            ],
            "text/html": [
              "\n",
              "            <style>\n",
              "                .geemap-dark {\n",
              "                    --jp-widgets-color: white;\n",
              "                    --jp-widgets-label-color: white;\n",
              "                    --jp-ui-font-color1: white;\n",
              "                    --jp-layout-color2: #454545;\n",
              "                    background-color: #383838;\n",
              "                }\n",
              "\n",
              "                .geemap-dark .jupyter-button {\n",
              "                    --jp-layout-color3: #383838;\n",
              "                }\n",
              "\n",
              "                .geemap-colab {\n",
              "                    background-color: var(--colab-primary-surface-color, white);\n",
              "                }\n",
              "\n",
              "                .geemap-colab .jupyter-button {\n",
              "                    --jp-layout-color3: var(--colab-primary-surface-color, white);\n",
              "                }\n",
              "            </style>\n",
              "            "
            ]
          },
          "metadata": {}
        },
        {
          "output_type": "stream",
          "name": "stdout",
          "text": [
            "Processing year: 2021\n",
            "  Month: 01\n",
            "    Mean value: 205.9148\n",
            "    Saved mean DSR image: /content/drive/MyDrive/MONTHLY_FIVE/DSRref_2021_01.tif\n",
            "  Month: 02\n",
            "    Mean value: 276.5512\n",
            "    Saved mean DSR image: /content/drive/MyDrive/MONTHLY_FIVE/DSRref_2021_02.tif\n",
            "  Month: 03\n",
            "    Mean value: 278.3015\n",
            "    Saved mean DSR image: /content/drive/MyDrive/MONTHLY_FIVE/DSRref_2021_03.tif\n",
            "  Month: 04\n",
            "    Mean value: 259.9945\n",
            "    Saved mean DSR image: /content/drive/MyDrive/MONTHLY_FIVE/DSRref_2021_04.tif\n",
            "  Month: 05\n",
            "    Mean value: 379.4288\n",
            "    Saved mean DSR image: /content/drive/MyDrive/MONTHLY_FIVE/DSRref_2021_05.tif\n",
            "  Month: 06\n",
            "    Mean value: 286.1984\n",
            "    Saved mean DSR image: /content/drive/MyDrive/MONTHLY_FIVE/DSRref_2021_06.tif\n",
            "  Month: 07\n",
            "    Mean value: 356.4298\n",
            "    Saved mean DSR image: /content/drive/MyDrive/MONTHLY_FIVE/DSRref_2021_07.tif\n",
            "  Month: 08\n",
            "    Mean value: 257.9764\n",
            "    Saved mean DSR image: /content/drive/MyDrive/MONTHLY_FIVE/DSRref_2021_08.tif\n",
            "  Month: 09\n",
            "    Mean value: 302.6927\n",
            "    Saved mean DSR image: /content/drive/MyDrive/MONTHLY_FIVE/DSRref_2021_09.tif\n",
            "  Month: 10\n",
            "    Mean value: 221.1727\n",
            "    Saved mean DSR image: /content/drive/MyDrive/MONTHLY_FIVE/DSRref_2021_10.tif\n",
            "  Month: 11\n",
            "    Mean value: 158.2157\n",
            "    Saved mean DSR image: /content/drive/MyDrive/MONTHLY_FIVE/DSRref_2021_11.tif\n",
            "  Month: 12\n",
            "    Mean value: 177.0473\n",
            "    Saved mean DSR image: /content/drive/MyDrive/MONTHLY_FIVE/DSRref_2021_12.tif\n",
            "Processing year: 2022\n",
            "  Month: 01\n",
            "    Mean value: 156.1170\n",
            "    Saved mean DSR image: /content/drive/MyDrive/MONTHLY_FIVE/DSRref_2022_01.tif\n",
            "  Month: 02\n",
            "    Mean value: 160.1741\n",
            "    Saved mean DSR image: /content/drive/MyDrive/MONTHLY_FIVE/DSRref_2022_02.tif\n",
            "  Month: 03\n",
            "    Mean value: 262.8163\n",
            "    Saved mean DSR image: /content/drive/MyDrive/MONTHLY_FIVE/DSRref_2022_03.tif\n",
            "  Month: 04\n",
            "    Mean value: 316.0020\n",
            "    Saved mean DSR image: /content/drive/MyDrive/MONTHLY_FIVE/DSRref_2022_04.tif\n",
            "  Month: 05\n",
            "    Mean value: 204.2738\n",
            "    Saved mean DSR image: /content/drive/MyDrive/MONTHLY_FIVE/DSRref_2022_05.tif\n",
            "  Month: 06\n",
            "    Mean value: 326.3918\n",
            "    Saved mean DSR image: /content/drive/MyDrive/MONTHLY_FIVE/DSRref_2022_06.tif\n",
            "  Month: 07\n",
            "    Mean value: 394.3138\n",
            "    Saved mean DSR image: /content/drive/MyDrive/MONTHLY_FIVE/DSRref_2022_07.tif\n",
            "  Month: 08\n",
            "    Mean value: 323.7212\n",
            "    Saved mean DSR image: /content/drive/MyDrive/MONTHLY_FIVE/DSRref_2022_08.tif\n",
            "  Month: 09\n",
            "    Mean value: 275.2509\n",
            "    Saved mean DSR image: /content/drive/MyDrive/MONTHLY_FIVE/DSRref_2022_09.tif\n",
            "  Month: 10\n",
            "    Mean value: 216.8445\n",
            "    Saved mean DSR image: /content/drive/MyDrive/MONTHLY_FIVE/DSRref_2022_10.tif\n",
            "  Month: 11\n",
            "    Mean value: 188.2730\n",
            "    Saved mean DSR image: /content/drive/MyDrive/MONTHLY_FIVE/DSRref_2022_11.tif\n",
            "  Month: 12\n",
            "    Mean value: 175.6118\n",
            "    Saved mean DSR image: /content/drive/MyDrive/MONTHLY_FIVE/DSRref_2022_12.tif\n",
            "Processing year: 2023\n",
            "  Month: 01\n",
            "    Mean value: 182.2954\n",
            "    Saved mean DSR image: /content/drive/MyDrive/MONTHLY_FIVE/DSRref_2023_01.tif\n",
            "  Month: 02\n",
            "    Mean value: 224.3454\n",
            "    Saved mean DSR image: /content/drive/MyDrive/MONTHLY_FIVE/DSRref_2023_02.tif\n",
            "  Month: 03\n",
            "    Mean value: 315.3369\n",
            "    Saved mean DSR image: /content/drive/MyDrive/MONTHLY_FIVE/DSRref_2023_03.tif\n",
            "  Month: 04\n",
            "    Mean value: 280.6577\n",
            "    Saved mean DSR image: /content/drive/MyDrive/MONTHLY_FIVE/DSRref_2023_04.tif\n",
            "  Month: 05\n",
            "    Mean value: 290.3714\n",
            "    Saved mean DSR image: /content/drive/MyDrive/MONTHLY_FIVE/DSRref_2023_05.tif\n",
            "  Month: 06\n",
            "    Mean value: 320.6017\n",
            "    Saved mean DSR image: /content/drive/MyDrive/MONTHLY_FIVE/DSRref_2023_06.tif\n",
            "  Month: 07\n",
            "    Mean value: 347.9825\n",
            "    Saved mean DSR image: /content/drive/MyDrive/MONTHLY_FIVE/DSRref_2023_07.tif\n",
            "  Month: 08\n",
            "    Mean value: 272.8911\n",
            "    Saved mean DSR image: /content/drive/MyDrive/MONTHLY_FIVE/DSRref_2023_08.tif\n",
            "  Month: 09\n",
            "    Mean value: 263.2883\n",
            "    Saved mean DSR image: /content/drive/MyDrive/MONTHLY_FIVE/DSRref_2023_09.tif\n",
            "  Month: 10\n",
            "    Mean value: 174.4162\n",
            "    Saved mean DSR image: /content/drive/MyDrive/MONTHLY_FIVE/DSRref_2023_10.tif\n",
            "  Month: 11\n",
            "    Mean value: 222.3821\n",
            "    Saved mean DSR image: /content/drive/MyDrive/MONTHLY_FIVE/DSRref_2023_11.tif\n",
            "  Month: 12\n",
            "    Mean value: 150.5253\n",
            "    Saved mean DSR image: /content/drive/MyDrive/MONTHLY_FIVE/DSRref_2023_12.tif\n",
            "Processing year: 2024\n",
            "  Month: 01\n",
            "    Mean value: 190.9735\n",
            "    Saved mean DSR image: /content/drive/MyDrive/MONTHLY_FIVE/DSRref_2024_01.tif\n",
            "  Month: 02\n",
            "    Mean value: 247.3943\n",
            "    Saved mean DSR image: /content/drive/MyDrive/MONTHLY_FIVE/DSRref_2024_02.tif\n",
            "  Month: 03\n",
            "    Mean value: 260.5676\n",
            "    Saved mean DSR image: /content/drive/MyDrive/MONTHLY_FIVE/DSRref_2024_03.tif\n",
            "  Month: 04\n",
            "    Mean value: 279.0852\n",
            "    Saved mean DSR image: /content/drive/MyDrive/MONTHLY_FIVE/DSRref_2024_04.tif\n",
            "  Month: 05\n",
            "    Mean value: 272.9462\n",
            "    Saved mean DSR image: /content/drive/MyDrive/MONTHLY_FIVE/DSRref_2024_05.tif\n",
            "  Month: 06\n",
            "    Mean value: 308.5289\n",
            "    Saved mean DSR image: /content/drive/MyDrive/MONTHLY_FIVE/DSRref_2024_06.tif\n",
            "  Month: 07\n",
            "    Mean value: 357.1338\n",
            "    Saved mean DSR image: /content/drive/MyDrive/MONTHLY_FIVE/DSRref_2024_07.tif\n",
            "  Month: 08\n",
            "    Mean value: 278.8746\n",
            "    Saved mean DSR image: /content/drive/MyDrive/MONTHLY_FIVE/DSRref_2024_08.tif\n",
            "  Month: 09\n",
            "    Mean value: 239.0692\n",
            "    Saved mean DSR image: /content/drive/MyDrive/MONTHLY_FIVE/DSRref_2024_09.tif\n",
            "  Month: 10\n",
            "    Mean value: 196.6207\n",
            "    Saved mean DSR image: /content/drive/MyDrive/MONTHLY_FIVE/DSRref_2024_10.tif\n",
            "  Month: 11\n",
            "    File not found: /content/drive/MyDrive/MONTHLY_FIVE/DSR_2024_11.tif\n",
            "  Month: 12\n",
            "    File not found: /content/drive/MyDrive/MONTHLY_FIVE/DSR_2024_12.tif\n"
          ]
        }
      ]
    },
    {
      "cell_type": "markdown",
      "source": [
        "# Slope"
      ],
      "metadata": {
        "id": "rhwsqVR_9lUf"
      }
    },
    {
      "cell_type": "code",
      "source": [
        "# prompt: generate slope and save\n",
        "\n",
        "import matplotlib.pyplot as plt\n",
        "# Calculate slope and save\n",
        "\n",
        "import rasterio\n",
        "from rasterio.plot import show\n",
        "from rasterio.warp import calculate_default_transform, reproject, Resampling\n",
        "import numpy as np\n",
        "\n",
        "# Input DEM file path (make sure this is correct)\n",
        "input_dem = \"/content/drive/MyDrive/DEM/DEM_nz.tif\"\n",
        "\n",
        "# Output slope file path\n",
        "output_slope = \"/content/drive/MyDrive/DEM/SLP.tif\"\n",
        "\n",
        "\n",
        "with rasterio.open(input_dem) as src:\n",
        "    dem_data = src.read(1)\n",
        "    profile = src.profile\n",
        "\n",
        "    # Calculate the slope using NumPy gradient\n",
        "    x_res = profile[\"transform\"][0]\n",
        "    y_res = -profile[\"transform\"][4]  # Note: y-resolution is negative\n",
        "\n",
        "    # Gradient function calculation\n",
        "    slope_radians = np.arctan(np.sqrt(\n",
        "        (np.gradient(dem_data, axis=0) / y_res)**2 +\n",
        "        (np.gradient(dem_data, axis=1) / x_res)**2))\n",
        "\n",
        "    slope_degrees = np.degrees(slope_radians)\n",
        "\n",
        "    # Update metadata for the output raster\n",
        "    profile.update(dtype=rasterio.float32, nodata=np.nan, count=1)\n",
        "\n",
        "    # Write the slope to a new GeoTIFF file\n",
        "    with rasterio.open(output_slope, \"w\", **profile) as dst:\n",
        "        dst.write(slope_degrees.astype(rasterio.float32), 1)\n",
        "\n",
        "print(f\"Slope calculated and saved to: {output_slope}\")\n",
        "\n",
        "#Optional: Display the slope\n",
        "plt.figure(figsize=(10, 8))\n",
        "plt.imshow(slope_degrees, cmap=\"terrain\")\n",
        "plt.title(\"Slope\")\n",
        "plt.xlabel(\"Column\")\n",
        "plt.ylabel(\"Row\")\n",
        "plt.colorbar(label=\"Slope (degrees)\")\n",
        "plt.show()\n"
      ],
      "metadata": {
        "id": "kecbiBHIQkma"
      },
      "execution_count": null,
      "outputs": []
    },
    {
      "cell_type": "markdown",
      "source": [
        "# slope reference"
      ],
      "metadata": {
        "id": "E7_3ee4Rcc_w"
      }
    },
    {
      "cell_type": "code",
      "source": [
        "!pip install rasterio"
      ],
      "metadata": {
        "id": "U4SMW3MqchB5"
      },
      "execution_count": null,
      "outputs": []
    },
    {
      "cell_type": "code",
      "source": [
        "import os\n",
        "import rasterio\n",
        "import numpy as np\n",
        "\n",
        "# Define the source SLP raster file\n",
        "source_file = \"/content/drive/MyDrive/DEM/SLP.tif\"\n",
        "\n",
        "# Define the output file path\n",
        "destination_file = \"/content/drive/MyDrive/DEM/SLPref.tif\"\n",
        "\n",
        "# Open the source file\n",
        "with rasterio.open(source_file) as src:\n",
        "    data = src.read()  # Read all bands\n",
        "    meta = src.meta.copy()  # Copy metadata for writing\n",
        "    meta.update(dtype=rasterio.float32)  # Ensure datatype is float32 for zeros if needed\n",
        "\n",
        "# Set all pixel values to zero\n",
        "data_zero = data * 0\n",
        "\n",
        "# Write the zeroed raster to a new file\n",
        "with rasterio.open(destination_file, \"w\", **meta) as dst:\n",
        "    dst.write(data_zero)\n",
        "\n",
        "print(f\"Zeroed slope file created: {destination_file}\")\n"
      ],
      "metadata": {
        "id": "pweHoWuldNRt",
        "outputId": "4003cb0a-f3df-4011-dcb8-319f57bfe666",
        "colab": {
          "base_uri": "https://localhost:8080/",
          "height": 34
        }
      },
      "execution_count": null,
      "outputs": [
        {
          "output_type": "display_data",
          "data": {
            "text/plain": [
              "<IPython.core.display.HTML object>"
            ],
            "text/html": [
              "\n",
              "            <style>\n",
              "                .geemap-dark {\n",
              "                    --jp-widgets-color: white;\n",
              "                    --jp-widgets-label-color: white;\n",
              "                    --jp-ui-font-color1: white;\n",
              "                    --jp-layout-color2: #454545;\n",
              "                    background-color: #383838;\n",
              "                }\n",
              "\n",
              "                .geemap-dark .jupyter-button {\n",
              "                    --jp-layout-color3: #383838;\n",
              "                }\n",
              "\n",
              "                .geemap-colab {\n",
              "                    background-color: var(--colab-primary-surface-color, white);\n",
              "                }\n",
              "\n",
              "                .geemap-colab .jupyter-button {\n",
              "                    --jp-layout-color3: var(--colab-primary-surface-color, white);\n",
              "                }\n",
              "            </style>\n",
              "            "
            ]
          },
          "metadata": {}
        },
        {
          "output_type": "stream",
          "name": "stdout",
          "text": [
            "Zeroed slope file created: /content/drive/MyDrive/DEM/SLPref.tif\n"
          ]
        }
      ]
    },
    {
      "cell_type": "markdown",
      "source": [
        "# Copying"
      ],
      "metadata": {
        "id": "6Bv1TOmYbFxx"
      }
    },
    {
      "cell_type": "code",
      "source": [
        "import shutil\n",
        "import os\n",
        "\n",
        "# -------------------------------------------------------------------\n",
        "# Define the source DEM file\n",
        "# -------------------------------------------------------------------\n",
        "source_file = \"/content/drive/MyDrive/DEM/ELVref.tif\"  # Adjust if needed\n",
        "\n",
        "# -------------------------------------------------------------------\n",
        "# Define the destination directory\n",
        "# -------------------------------------------------------------------\n",
        "destination_dir = \"/content/drive/MyDrive/ELVref\"  # This is your target folder\n",
        "\n",
        "# Create the destination directory if it doesn't exist\n",
        "if not os.path.exists(destination_dir):\n",
        "    os.makedirs(destination_dir)\n",
        "\n",
        "# -------------------------------------------------------------------\n",
        "# Define the seasons\n",
        "# -------------------------------------------------------------------\n",
        "seasons = {\n",
        "    \"Winter\": ('12-01', '02-28'),\n",
        "    \"Spring\": ('03-01', '05-31'),\n",
        "    \"Summer\": ('06-01', '08-31'),\n",
        "    \"Autumn\": ('09-01', '11-30')\n",
        "}\n",
        "\n",
        "# -------------------------------------------------------------------\n",
        "# Loop through years and seasons to create DEM copies\n",
        "# -------------------------------------------------------------------\n",
        "for year in range(2000, 2025):\n",
        "    print(f\"Processing year: {year}\")\n",
        "\n",
        "    for season in seasons:\n",
        "        print(f\"  Processing {season} of {year}\")\n",
        "\n",
        "        # Define the new file name\n",
        "        new_file_name = f\"ELVref_{year}_{season}.tif\"\n",
        "        destination_file = os.path.join(destination_dir, new_file_name)\n",
        "\n",
        "        # Copy and rename\n",
        "        shutil.copy(source_file, destination_file)\n",
        "        print(f\"    Copied to {destination_file}\")\n"
      ],
      "metadata": {
        "id": "Wa-AysmUbD7b"
      },
      "execution_count": null,
      "outputs": []
    },
    {
      "cell_type": "markdown",
      "source": [
        "# Monthly copying"
      ],
      "metadata": {
        "id": "NlQ0aYaAW1s6"
      }
    },
    {
      "cell_type": "code",
      "source": [
        "import shutil\n",
        "import os\n",
        "\n",
        "# -------------------------------------------------------------------\n",
        "# Define the source DEM file\n",
        "# -------------------------------------------------------------------\n",
        "source_file = \"/content/drive/MyDrive/MONTHLY/ELVref.tif\"  # Update as needed\n",
        "\n",
        "# -------------------------------------------------------------------\n",
        "# Define the destination directory\n",
        "# -------------------------------------------------------------------\n",
        "destination_dir = \"/content/drive/MyDrive/MONTHLY_ONE\"\n",
        "\n",
        "# Create the destination directory if it doesn't exist\n",
        "os.makedirs(destination_dir, exist_ok=True)\n",
        "\n",
        "# -------------------------------------------------------------------\n",
        "# Loop through years and months to create monthly DEM copies\n",
        "# -------------------------------------------------------------------\n",
        "for year in range(2000, 2006):\n",
        "    print(f\"Processing year: {year}\")\n",
        "\n",
        "    for month in range(1, 13):\n",
        "        month_str = str(month).zfill(2)\n",
        "        print(f\"  Processing month: {month_str}\")\n",
        "\n",
        "        # Define the new file name\n",
        "        new_file_name = f\"ELVref_{year}_{month_str}.tif\"\n",
        "        destination_file = os.path.join(destination_dir, new_file_name)\n",
        "\n",
        "        # Copy and rename\n",
        "        shutil.copy(source_file, destination_file)\n",
        "        print(f\"    Copied to {destination_file}\")\n"
      ],
      "metadata": {
        "id": "op0rIPMUW0JF"
      },
      "execution_count": null,
      "outputs": []
    },
    {
      "cell_type": "markdown",
      "source": [
        "# ploting"
      ],
      "metadata": {
        "id": "InmNxsG9GaMx"
      }
    },
    {
      "cell_type": "code",
      "source": [
        "import rasterio\n",
        "import matplotlib.pyplot as plt\n",
        "import numpy as np\n",
        "\n",
        "# Path to the downloaded GeoTIFF file.\n",
        "filename = '/content/drive/MyDrive/MONTHLY_ONE/DSRref_2000_08.tif'\n",
        "\n",
        "# Open the file with rasterio\n",
        "with rasterio.open(filename) as src:\n",
        "    # Read the first band (assuming the LST is stored in a single band)\n",
        "    lst_data = src.read(1)\n",
        "    # Get metadata information\n",
        "    meta = src.meta\n",
        "    print(\"Metadata:\")\n",
        "    for key, value in meta.items():\n",
        "        print(f\"{key}: {value}\")\n",
        "\n",
        "# Mask no-data values (if present)\n",
        "ndvi_masked = np.ma.masked_where(lst_data == src.nodata, lst_data)\n",
        "\n",
        "# Plot the LST image using matplotlib\n",
        "plt.figure(figsize=(10, 8))\n",
        "cmap = plt.cm.jet  # choose a colormap\n",
        "img = plt.imshow(ndvi_masked, cmap=cmap)\n",
        "plt.colorbar(img, label='LST (K)')\n",
        "plt.title('MODIS LST (Masked) in Kelvin')\n",
        "plt.xlabel('Column #')\n",
        "plt.ylabel('Row #')\n",
        "plt.show()"
      ],
      "metadata": {
        "id": "gxVwVV3ydo4Z",
        "outputId": "455212e9-906e-4cf0-f414-6e5136e3403e",
        "colab": {
          "base_uri": "https://localhost:8080/",
          "height": 909
        }
      },
      "execution_count": 27,
      "outputs": [
        {
          "output_type": "display_data",
          "data": {
            "text/plain": [
              "<IPython.core.display.HTML object>"
            ],
            "text/html": [
              "\n",
              "            <style>\n",
              "                .geemap-dark {\n",
              "                    --jp-widgets-color: white;\n",
              "                    --jp-widgets-label-color: white;\n",
              "                    --jp-ui-font-color1: white;\n",
              "                    --jp-layout-color2: #454545;\n",
              "                    background-color: #383838;\n",
              "                }\n",
              "\n",
              "                .geemap-dark .jupyter-button {\n",
              "                    --jp-layout-color3: #383838;\n",
              "                }\n",
              "\n",
              "                .geemap-colab {\n",
              "                    background-color: var(--colab-primary-surface-color, white);\n",
              "                }\n",
              "\n",
              "                .geemap-colab .jupyter-button {\n",
              "                    --jp-layout-color3: var(--colab-primary-surface-color, white);\n",
              "                }\n",
              "            </style>\n",
              "            "
            ]
          },
          "metadata": {}
        },
        {
          "output_type": "stream",
          "name": "stdout",
          "text": [
            "Metadata:\n",
            "driver: GTiff\n",
            "dtype: float32\n",
            "nodata: nan\n",
            "width: 282\n",
            "height: 382\n",
            "count: 1\n",
            "crs: EPSG:32651\n",
            "transform: | 1000.00, 0.00, 118000.00|\n",
            "| 0.00,-1000.00, 2804000.00|\n",
            "| 0.00, 0.00, 1.00|\n"
          ]
        },
        {
          "output_type": "display_data",
          "data": {
            "text/plain": [
              "<Figure size 1000x800 with 2 Axes>"
            ],
            "image/png": "[encoded data removed]"
          },
          "metadata": {}
        }
      ]
    }
  ]
}