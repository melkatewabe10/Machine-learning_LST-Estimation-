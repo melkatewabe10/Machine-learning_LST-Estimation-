{
  "nbformat": 4,
  "nbformat_minor": 0,
  "metadata": {
    "colab": {
      "provenance": [],
      "mount_file_id": "1PjiHTTvQXZ4JSFVdjXnFeKQOV39mveAA",
      "authorship_tag": "ABX9TyNvEpXsCfOEPCc38srszvbS",
      "include_colab_link": true
    },
    "kernelspec": {
      "name": "python3",
      "display_name": "Python 3"
    },
    "language_info": {
      "name": "python"
    }
  },
  "cells": [
    {
      "cell_type": "markdown",
      "metadata": {
        "id": "view-in-github",
        "colab_type": "text"
      },
      "source": [
        "<a href=\"https://colab.research.google.com/github/melkatewabe10/Machine-learning_LST-Estimation-/blob/main/Trend_analysis.ipynb\" target=\"_parent\"><img src=\"https://colab.research.google.com/assets/colab-badge.svg\" alt=\"Open In Colab\"/></a>"
      ]
    },
    {
      "cell_type": "markdown",
      "source": [
        "**Author: Tewabe Melkamu**\n",
        "\n",
        "Date: 24/3/2025\n",
        "\n",
        "Trend analysis"
      ],
      "metadata": {
        "id": "DKTzoeHNtS5V"
      }
    },
    {
      "cell_type": "code",
      "source": [
        "!pip install rasterio\n",
        "!pip install scipy\n",
        "!pip install tqdm"
      ],
      "metadata": {
        "id": "zXTCxthFvaWt"
      },
      "execution_count": null,
      "outputs": []
    },
    {
      "cell_type": "markdown",
      "source": [
        "**Script**"
      ],
      "metadata": {
        "id": "apTCKFmnxvTk"
      }
    },
    {
      "cell_type": "code",
      "source": [
        "# Import necessary libraries for numerical operations, file handling, and geospatial data processing.\n",
        "import numpy as np\n",
        "import rasterio\n",
        "import glob\n",
        "import os\n",
        "import re\n",
        "from tqdm import tqdm  # For displaying progress in loops\n",
        "\n",
        "# ---------------------------\n",
        "# Initial File Reading and Setup\n",
        "# ---------------------------\n",
        "\n",
        "# Specify the folder containing the NDVI TIFF files.\n",
        "folder_path = 'taiwan_ndvi_evolution'  # Update this to your NDVI files folder\n",
        "\n",
        "# Retrieve all NDVI TIFF files matching the pattern \"NDVI_*.tif\"\n",
        "file_list = glob.glob(os.path.join(folder_path, 'NDVI_*.tif'))\n",
        "if not file_list:\n",
        "    raise FileNotFoundError(f\"No TIFF files found in folder: {folder_path}\")\n",
        "\n",
        "def extract_year(filename):\n",
        "    \"\"\"\n",
        "    Extract a 4-digit year from a filename.\n",
        "\n",
        "    Parameters:\n",
        "        filename (str): Filename (e.g., 'NDVI_2000.tif').\n",
        "\n",
        "    Returns:\n",
        "        int or None: The extracted year as an integer, or None if not found.\n",
        "    \"\"\"\n",
        "    m = re.search(r'(\\d{4})', os.path.basename(filename))\n",
        "    return int(m.group(1)) if m else None\n",
        "\n",
        "# Sort the file list based on the extracted year.\n",
        "file_list = sorted(file_list, key=lambda x: extract_year(x))\n",
        "\n",
        "# Extract years from filenames to form the time vector.\n",
        "years = [extract_year(file) for file in file_list if extract_year(file) is not None]\n",
        "if not years:\n",
        "    raise ValueError(\"No valid year information found in file names.\")\n",
        "\n",
        "years = sorted(years)\n",
        "time_vector = np.array(years, dtype=np.float32)\n",
        "\n",
        "# ---------------------------\n",
        "# Function Definitions\n",
        "# ---------------------------\n",
        "\n",
        "def read_data_stack(file_list):\n",
        "    \"\"\"\n",
        "    Read each single-band NDVI TIFF file and stack them into a 3D numpy array.\n",
        "\n",
        "    Parameters:\n",
        "        file_list (list): List of NDVI TIFF file paths (assumed sorted by year).\n",
        "\n",
        "    Returns:\n",
        "        tuple: (data_stack, meta, nodata_value)\n",
        "            - data_stack (np.ndarray): 3D array with dimensions (time, rows, cols).\n",
        "            - meta (dict): Metadata from the first file (assumed consistent across files).\n",
        "            - nodata_value (float or None): The nodata value from the file metadata.\n",
        "    \"\"\"\n",
        "    with rasterio.open(file_list[0]) as src:\n",
        "        meta = src.meta.copy()\n",
        "        nodata_value = src.nodata\n",
        "        first_band = src.read(1)\n",
        "        rows, cols = first_band.shape\n",
        "        data_stack = [first_band]\n",
        "\n",
        "    for file in file_list[1:]:\n",
        "        with rasterio.open(file) as src:\n",
        "            band = src.read(1)\n",
        "            if band.shape != (rows, cols):\n",
        "                raise ValueError(f\"Dimension mismatch detected in file: {file}\")\n",
        "            data_stack.append(band)\n",
        "\n",
        "    data_stack = np.stack(data_stack, axis=0)  # Shape: (time, rows, cols)\n",
        "    return data_stack, meta, nodata_value\n",
        "\n",
        "def compute_pixel_slope(time_vector, pixel_series, nodata_value):\n",
        "    \"\"\"\n",
        "    Compute the linear trend (slope) for a pixel's NDVI time series using linear regression.\n",
        "\n",
        "    Parameters:\n",
        "        time_vector (np.ndarray): 1D array of time points (years).\n",
        "        pixel_series (np.ndarray): 1D array of NDVI values for one pixel over time.\n",
        "        nodata_value (float or None): Value representing missing data.\n",
        "\n",
        "    Returns:\n",
        "        float: The slope of the NDVI time series, or np.nan if invalid.\n",
        "    \"\"\"\n",
        "    # Check for nodata values in the pixel series\n",
        "    if nodata_value is not None and np.any(pixel_series == nodata_value):\n",
        "        return np.nan\n",
        "    # If the pixel values are constant or all NaN, regression is not valid\n",
        "    if np.all(np.isnan(pixel_series)) or np.std(pixel_series) == 0:\n",
        "        return np.nan\n",
        "    # Compute the slope using numpy's polyfit; the slope is the first coefficient\n",
        "    slope, intercept = np.polyfit(time_vector, pixel_series, 1)\n",
        "    return slope\n",
        "\n",
        "# ---------------------------\n",
        "# Main Processing Function\n",
        "# ---------------------------\n",
        "\n",
        "def main():\n",
        "    # Read and stack all NDVI TIFF files into a 3D numpy array.\n",
        "    data, meta, nodata_value = read_data_stack(file_list)\n",
        "    num_years, rows, cols = data.shape\n",
        "\n",
        "    # Initialize an output array for the NDVI trend (slope) per pixel.\n",
        "    slope_array = np.full((rows, cols), np.nan, dtype=np.float32)\n",
        "\n",
        "    # Process each pixel in the spatial domain.\n",
        "    for i in tqdm(range(rows), desc=\"Processing rows\"):\n",
        "        for j in range(cols):\n",
        "            pixel_series = data[:, i, j]\n",
        "            # Compute the NDVI trend (slope) for the current pixel.\n",
        "            slope = compute_pixel_slope(time_vector, pixel_series, nodata_value)\n",
        "            slope_array[i, j] = slope\n",
        "\n",
        "    # Update metadata for a single-band output (float32).\n",
        "    meta.update(count=1, dtype=rasterio.float32)\n",
        "\n",
        "    # Define the output filename for the NDVI evolution (trend) GeoTIFF.\n",
        "    output_trend_tif = 'taiwan_ndvi_trend.tif'\n",
        "\n",
        "    # Write the slope (trend) array to a new GeoTIFF file.\n",
        "    with rasterio.open(output_trend_tif, 'w', **meta) as dst:\n",
        "        dst.write(slope_array, 1)\n",
        "\n",
        "    print(\"The NDVI evolution (trend) GeoTIFF file has been generated successfully.\")\n",
        "\n",
        "# Run the main function when the script is executed directly.\n",
        "if __name__ == '__main__':\n",
        "    main()\n"
      ],
      "metadata": {
        "id": "WxWFCp4w6H6S"
      },
      "execution_count": null,
      "outputs": []
    }
  ]
}