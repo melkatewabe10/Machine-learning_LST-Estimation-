{
  "nbformat": 4,
  "nbformat_minor": 0,
  "metadata": {
    "colab": {
      "provenance": [],
      "mount_file_id": "1PjiHTTvQXZ4JSFVdjXnFeKQOV39mveAA",
      "authorship_tag": "ABX9TyN0HQlsf/NhC2YbSPmoEV0E",
      "include_colab_link": true
    },
    "kernelspec": {
      "name": "python3",
      "display_name": "Python 3"
    },
    "language_info": {
      "name": "python"
    }
  },
  "cells": [
    {
      "cell_type": "markdown",
      "metadata": {
        "id": "view-in-github",
        "colab_type": "text"
      },
      "source": [
        "<a href=\"https://colab.research.google.com/github/melkatewabe10/Machine-learning_LST-Estimation-/blob/main/Validation.ipynb\" target=\"_parent\"><img src=\"https://colab.research.google.com/assets/colab-badge.svg\" alt=\"Open In Colab\"/></a>"
      ]
    },
    {
      "cell_type": "markdown",
      "source": [
        "**Author: Tewabe Melkamu**\n",
        "\n",
        "Date: 24/3/2025\n",
        "\n",
        "Validation"
      ],
      "metadata": {
        "id": "DKTzoeHNtS5V"
      }
    },
    {
      "cell_type": "code",
      "source": [
        "!pip install rasterio\n",
        "!pip install scipy\n",
        "!pip install tqdm"
      ],
      "metadata": {
        "id": "zXTCxthFvaWt"
      },
      "execution_count": null,
      "outputs": []
    },
    {
      "cell_type": "markdown",
      "source": [
        "**Script**"
      ],
      "metadata": {
        "id": "apTCKFmnxvTk"
      }
    },
    {
      "cell_type": "code",
      "source": [
        "# Import necessary libraries\n",
        "import numpy as np\n",
        "import rasterio\n",
        "import glob\n",
        "import os\n",
        "import re\n",
        "from scipy.stats import pearsonr\n",
        "from tqdm import tqdm\n",
        "\n",
        "# ---------------------------\n",
        "# Define the folder path at the beginning\n",
        "# ---------------------------\n",
        "folder_path = 'validation'  # Folder containing the TIFF files\n",
        "\n",
        "def extract_year_from_filename(filename):\n",
        "    \"\"\"\n",
        "    Extract a 4-digit year from the filename.\n",
        "    For example, 'LST_2000.tif' returns 2000.\n",
        "    \"\"\"\n",
        "    m = re.search(r'(\\d{4})', os.path.basename(filename))\n",
        "    return int(m.group(1)) if m else None\n",
        "\n",
        "def read_stack(variable, folder_path):\n",
        "    \"\"\"\n",
        "    Read and stack all TIFF files for a given variable (e.g., 'LST')\n",
        "    from the specified folder. Assumes filenames like 'LST_2000.tif',\n",
        "    'LST_2001.tif', ... up to 'LST_2025.tif'.\n",
        "\n",
        "    Returns:\n",
        "        stack (np.ndarray): 3D array with dimensions (time, rows, cols)\n",
        "        meta (dict): Metadata from the first file (assumed consistent)\n",
        "        nodata_value (float or None): nodata value from the metadata\n",
        "        time_vector (np.ndarray): 1D array of years\n",
        "    \"\"\"\n",
        "    pattern = os.path.join(folder_path, f\"{variable}_*.tif\")\n",
        "    file_list = glob.glob(pattern)\n",
        "    if not file_list:\n",
        "        raise FileNotFoundError(f\"No files found for variable '{variable}' in {folder_path}\")\n",
        "\n",
        "    # Sort files based on the extracted year\n",
        "    file_list = sorted(file_list, key=lambda x: extract_year_from_filename(x))\n",
        "\n",
        "    # Extract years from filenames\n",
        "    years = [extract_year_from_filename(f) for f in file_list if extract_year_from_filename(f) is not None]\n",
        "    if not years:\n",
        "        raise ValueError(f\"No valid year information found in files for variable '{variable}'.\")\n",
        "\n",
        "    # Optional: Verify that the data spans 2000 to 2025 (26 time steps)\n",
        "    years = sorted(years)\n",
        "    if years[0] != 2000 or years[-1] != 2025 or len(years) != 26:\n",
        "        raise ValueError(f\"Expected years from 2000 to 2025 (26 files) for variable '{variable}', but got: {years}\")\n",
        "    time_vector = np.array(years, dtype=np.float32)\n",
        "\n",
        "    # Read the first file to obtain metadata and dimensions\n",
        "    with rasterio.open(file_list[0]) as src:\n",
        "        meta = src.meta.copy()\n",
        "        nodata_value = src.nodata\n",
        "        first_band = src.read(1)\n",
        "        rows, cols = first_band.shape\n",
        "        stack = [first_band]\n",
        "\n",
        "    # Read and stack the remaining files\n",
        "    for file in file_list[1:]:\n",
        "        with rasterio.open(file) as src:\n",
        "            band = src.read(1)\n",
        "            if band.shape != (rows, cols):\n",
        "                raise ValueError(f\"Dimension mismatch in file: {file}\")\n",
        "            stack.append(band)\n",
        "\n",
        "    # Stack into a 3D numpy array: (time, rows, cols)\n",
        "    stack = np.stack(stack, axis=0)\n",
        "    return stack, meta, nodata_value, time_vector\n",
        "\n",
        "def main():\n",
        "    # Read the data stacks for LST and the other variables: SM, ET, P, NP.\n",
        "    lst_stack, meta, nodata_value, time_vector = read_stack(\"LST\", folder_path)\n",
        "    sm_stack, _, _, _   = read_stack(\"SM\", folder_path)\n",
        "    et_stack, _, _, _   = read_stack(\"ET\", folder_path)\n",
        "    p_stack, _, _, _    = read_stack(\"P\", folder_path)\n",
        "    np_stack, _, _, _   = read_stack(\"NP\", folder_path)\n",
        "\n",
        "    # Verify that all stacks share the same dimensions: (time, rows, cols)\n",
        "    shape = lst_stack.shape\n",
        "    if (sm_stack.shape != shape or et_stack.shape != shape or\n",
        "        p_stack.shape != shape or np_stack.shape != shape):\n",
        "        raise ValueError(\"Mismatch in stack dimensions among variables.\")\n",
        "\n",
        "    time_steps, rows, cols = shape\n",
        "\n",
        "    # Prepare dictionaries to store output correlation and p-value maps for each variable.\n",
        "    variables = [\"SM\", \"ET\", \"P\", \"NP\"]\n",
        "    corr_maps = {var: np.full((rows, cols), np.nan, dtype=np.float32) for var in variables}\n",
        "    p_maps    = {var: np.full((rows, cols), np.nan, dtype=np.float32) for var in variables}\n",
        "\n",
        "    # Loop over every pixel in the spatial domain.\n",
        "    for i in tqdm(range(rows), desc=\"Processing rows\"):\n",
        "        for j in range(cols):\n",
        "            # Extract LST time series for the current pixel.\n",
        "            lst_series = lst_stack[:, i, j]\n",
        "            # Skip if LST has nodata values or is constant.\n",
        "            if nodata_value is not None and np.any(lst_series == nodata_value):\n",
        "                continue\n",
        "            if np.std(lst_series) == 0:\n",
        "                continue\n",
        "\n",
        "            # For each variable, compute the Pearson correlation with LST.\n",
        "            for var, stack in zip(variables, [sm_stack, et_stack, p_stack, np_stack]):\n",
        "                series = stack[:, i, j]\n",
        "                # Skip if the series has nodata values or is constant.\n",
        "                if nodata_value is not None and np.any(series == nodata_value):\n",
        "                    continue\n",
        "                if np.std(series) == 0:\n",
        "                    continue\n",
        "                # Compute the correlation coefficient and p-value.\n",
        "                r, p = pearsonr(lst_series, series)\n",
        "                # Only store significant correlations (p < 0.05).\n",
        "                if p < 0.05:\n",
        "                    corr_maps[var][i, j] = r\n",
        "                    p_maps[var][i, j] = p\n",
        "\n",
        "    # Save output maps as GeoTIFFs for each variable pairing (LST vs. SM, ET, P, NP).\n",
        "    for var in variables:\n",
        "        out_corr = f\"LST_{var}_correlation.tif\"\n",
        "        out_pval = f\"LST_{var}_pvalue.tif\"\n",
        "\n",
        "        # Update metadata for a single-band float32 output.\n",
        "        meta.update(count=1, dtype=rasterio.float32)\n",
        "\n",
        "        with rasterio.open(out_corr, 'w', **meta) as dst:\n",
        "            dst.write(corr_maps[var], 1)\n",
        "\n",
        "        with rasterio.open(out_pval, 'w', **meta) as dst:\n",
        "            dst.write(p_maps[var], 1)\n",
        "\n",
        "    print(\"GeoTIFF files for correlation coefficients and p-values have been generated for SM, ET, P, and NP.\")\n",
        "\n",
        "if __name__ == '__main__':\n",
        "    main()\n"
      ],
      "metadata": {
        "id": "_6R9lLKFEF_p"
      },
      "execution_count": null,
      "outputs": []
    }
  ]
}